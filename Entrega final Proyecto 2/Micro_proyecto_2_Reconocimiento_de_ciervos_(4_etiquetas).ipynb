{
  "nbformat": 4,
  "nbformat_minor": 0,
  "metadata": {
    "colab": {
      "name": "Micro proyecto 2 - Reconocimiento de ciervos (4 etiquetas).ipynb",
      "provenance": [],
      "collapsed_sections": []
    },
    "kernelspec": {
      "name": "python3",
      "display_name": "Python 3"
    },
    "accelerator": "GPU"
  },
  "cells": [
    {
      "cell_type": "markdown",
      "metadata": {
        "id": "XOwiUA4JDTAB"
      },
      "source": [
        "#Reconocimiento de ciervos\n",
        "Realizado por:\n",
        "* Isabela Luján Jaramillo \n",
        "* Daniel Alexander Naranjo Ríos"
      ]
    },
    {
      "cell_type": "markdown",
      "metadata": {
        "id": "qL01XWgJasHf"
      },
      "source": [
        "## Instalar TensorFlow y keras\n",
        "\n",
        "---\n",
        "Primero instalamos tensorflow y keras en python.\n"
      ]
    },
    {
      "cell_type": "code",
      "metadata": {
        "id": "HDWZ5bbbarWD"
      },
      "source": [
        "!pip install -q tensorflow\n",
        "!pip install -q keras-tuner"
      ],
      "execution_count": null,
      "outputs": []
    },
    {
      "cell_type": "markdown",
      "metadata": {
        "id": "FbS0zILvcG-m"
      },
      "source": [
        "## Conexión con Google Drive\n",
        "\n",
        "---\n",
        "Ahora hacemos la conexión con Google Drive, que es donde tenemos guardado el dataset de los ciervos.\n"
      ]
    },
    {
      "cell_type": "code",
      "metadata": {
        "id": "G_8XQGxwcKv5",
        "outputId": "e0e06339-7232-482d-df41-8217d02ec3fb",
        "colab": {
          "base_uri": "https://localhost:8080/",
          "height": 34
        }
      },
      "source": [
        "carpeta_dataset = 'https://drive.google.com/drive/folders/1e-0-q-DtNYcWqWlL-P8QrAuXwu6KlWav?usp=sharing' #@param [\"https://drive.google.com/drive/folders/1e-0-q-DtNYcWqWlL-P8QrAuXwu6KlWav?usp=sharing\"]\n",
        "from google.colab import drive\n",
        "drive.mount('/content/drive')"
      ],
      "execution_count": null,
      "outputs": [
        {
          "output_type": "stream",
          "text": [
            "Drive already mounted at /content/drive; to attempt to forcibly remount, call drive.mount(\"/content/drive\", force_remount=True).\n"
          ],
          "name": "stdout"
        }
      ]
    },
    {
      "cell_type": "markdown",
      "metadata": {
        "id": "P9diCrldSmvh"
      },
      "source": [
        "## Importar librerías\n",
        "\n",
        "---\n",
        "Importamos todas las librerías necesarias para la ejecución del programa.\n"
      ]
    },
    {
      "cell_type": "code",
      "metadata": {
        "id": "foAjlLrPSZRr"
      },
      "source": [
        "import tensorflow as tf # Biblioteca de código abierto para aprendizaje automático\n",
        "\n",
        "# Importar Keras - es un complento para tensorflow para el entrenamiento de la red neuronal\n",
        "import keras \n",
        "from keras.datasets import cifar10\n",
        "from keras.preprocessing.image import ImageDataGenerator\n",
        "from keras.models import Sequential\n",
        "from keras.layers import Dense, Dropout, Activation, Flatten\n",
        "from keras.layers import Conv2D, MaxPooling2D\n",
        "from kerastuner.tuners import RandomSearch\n",
        "\n",
        "# Para el cálculo de métricas\n",
        "from sklearn.metrics import accuracy_score, recall_score, precision_score\n",
        "\n",
        "import plotly.graph_objects as go # Para la matriz de confusión\n",
        "import pandas as pd  # Para calculos matemáticos y estadísticos\n",
        "import numpy as np  # Para la creación de matrices\n",
        "\n",
        "import matplotlib.pyplot as plt # Para graficar\n",
        "import matplotlib.image as mpimg\n",
        "\n",
        "import os  # Para recorrer las direcciones de los archivos\n",
        "import cv2  # Para la modificación de imágenes\n",
        "import random  # Para generar valores aleatorios"
      ],
      "execution_count": null,
      "outputs": []
    },
    {
      "cell_type": "markdown",
      "metadata": {
        "id": "UqUAFiTGcalx"
      },
      "source": [
        "## Paths\n",
        "\n",
        "---\n",
        "Creación de variables con las direcciones de los archivos que vamos a necesitar.\n"
      ]
    },
    {
      "cell_type": "code",
      "metadata": {
        "id": "T3GGprsGchsM"
      },
      "source": [
        "# Path en google drive de la carpeta con el dataset\n",
        "data_path = '/content/drive/Shared drives/Inteligencia Artificial - Microproyectos/Microproyecto 2/'\n",
        "\n",
        "train_path = data_path + \"DeerDataset/train/\"\n",
        "test_path = data_path + \"DeerDataset/test/\"\n",
        "\n",
        "categories = [\"Doe\", \"Buck\", \"Fawn\", \"Herd\"]\n",
        "spanish = [\"Hembra\", \"Macho\", \"Cervatillo\", \"Manada\"]"
      ],
      "execution_count": null,
      "outputs": []
    },
    {
      "cell_type": "markdown",
      "metadata": {
        "id": "exFZfYw7cyXe"
      },
      "source": [
        "## Función para preprocesar la imagen\n",
        "\n",
        "---\n",
        "Cambiamos el tamaño, color y dimensión de la imagen. La imagen se guarda en escala de grises porque luego de hacer pruebas notamos que el color no influye en el desempeño.\n"
      ]
    },
    {
      "cell_type": "code",
      "metadata": {
        "id": "yy69E7BVc1hU"
      },
      "source": [
        "SIZE=200\n",
        "def preprocess_image(img):\n",
        "  min_side = min(img.shape[0], img.shape[1])\n",
        "  img = img[:min_side, :min_side]\n",
        "  img = cv2.resize(img, (SIZE,SIZE)) #Cambiar el tamaño de la imagen\n",
        "  img = cv2.cvtColor(img, cv2.COLOR_BGR2GRAY) #Poner la imagen en escala de grises\n",
        "  return img / 255.0 #Normalizar para trabajar antre 0 y 1"
      ],
      "execution_count": null,
      "outputs": []
    },
    {
      "cell_type": "markdown",
      "metadata": {
        "id": "ef6G6nvG8qim"
      },
      "source": [
        "## Cargar imágenes y etiquetarlas numéricamente\n",
        "\n",
        "---\n",
        "Hacemos un loop para recorrer la carpeta de las imágenes de entrenamiento y las imágenes de prueba, en cada paso se entra a la subcarpeta con cada categoría, dentro de la carpeta se saca el nombre de cada imagen para luego llamar a la función de preprocesado de la imagen y luego se guarda en un arreglo junto con su etiqueta correspondiente. Los arreglos de entrenamiento y prueba quedan ordenados, lo que podría crear un sesgo para la predicción en base al orden, debido a esto desordenamos ambos arreglos.\n"
      ]
    },
    {
      "cell_type": "markdown",
      "metadata": {
        "id": "VqA1IR8u9aSi"
      },
      "source": [
        "\n",
        "\n",
        "---\n",
        "*Datos de entrenamiento*\n"
      ]
    },
    {
      "cell_type": "code",
      "metadata": {
        "id": "nKtsi88BnifA",
        "outputId": "4ddab270-2a11-4ba9-b6b9-7e12cf730f5e",
        "colab": {
          "base_uri": "https://localhost:8080/",
          "height": 34
        }
      },
      "source": [
        "# Inicializar variable para los datos de entrenamiento\n",
        "training_data = []\n",
        "\n",
        "# Creación de arreglo con las imágenes de entrenamiento\n",
        "for category in categories:\n",
        "\n",
        "  category_path = train_path + category  #Path a cada categoría\n",
        "  num_label = categories.index(category)  #Definir etiqueta numérica con el index de la categoría\n",
        "\n",
        "  for img in os.listdir(category_path):\n",
        "\n",
        "    img_array = cv2.imread(category_path + \"/\" + img)  #Convertir a arreglo\n",
        "    new_array = preprocess_image(img_array)\n",
        "    training_data.append([new_array, num_label]) #Arreglo con la imagen y si etiqueta\n",
        "\n",
        "#Desordenar los datos\n",
        "random.shuffle(training_data) \n",
        "\n",
        "print(len(training_data))"
      ],
      "execution_count": null,
      "outputs": [
        {
          "output_type": "stream",
          "text": [
            "1349\n"
          ],
          "name": "stdout"
        }
      ]
    },
    {
      "cell_type": "markdown",
      "metadata": {
        "id": "7FkjZBA89WpZ"
      },
      "source": [
        "\n",
        "\n",
        "---\n",
        "*Datos de prueba*\n"
      ]
    },
    {
      "cell_type": "code",
      "metadata": {
        "id": "a219nc8F89pr",
        "outputId": "fe054775-d01a-43e0-b3cd-a5daf766bcdf",
        "colab": {
          "base_uri": "https://localhost:8080/",
          "height": 34
        }
      },
      "source": [
        "# Inicializar variable para los datos de prueba\n",
        "testing_data = []\n",
        "\n",
        "# Creación de arreglo con las imágenes de prueba\n",
        "for category in categories:\n",
        "\n",
        "  category_path = test_path + category #Path a cada categoría\n",
        "  num_label = categories.index(category)  #Definir etiqueta numérica con el index de la categoría\n",
        "  for img in os.listdir(category_path):\n",
        "\n",
        "    img_array = cv2.imread(category_path + \"/\" + img)  #Convertir a arreglo\n",
        "    new_array = preprocess_image(img_array)\n",
        "    testing_data.append([new_array, num_label]) #Arreglo con la imagen y su etiqueta\n",
        "\n",
        "#Desordenar los datos\n",
        "random.shuffle(testing_data)\n",
        "\n",
        "print(len(testing_data))"
      ],
      "execution_count": null,
      "outputs": [
        {
          "output_type": "stream",
          "text": [
            "143\n"
          ],
          "name": "stdout"
        }
      ]
    },
    {
      "cell_type": "markdown",
      "metadata": {
        "id": "R28u1tl6twl8"
      },
      "source": [
        "## Modelo definitivo\n",
        "\n",
        "---\n",
        "En este paso se separa cada arreglo en dos, uno con las imágenes y otro con las etiquetas, quedan 4 arreglos en total, luego los ponemos en formato np.array para poderlos usar con las libreías de keras y tensorflow.\n"
      ]
    },
    {
      "cell_type": "markdown",
      "metadata": {
        "id": "8v5rhl8J_BzR"
      },
      "source": [
        "\n",
        "\n",
        "---\n",
        "*Datos de entrenamiento*"
      ]
    },
    {
      "cell_type": "code",
      "metadata": {
        "id": "yt3dZjKit0wi",
        "outputId": "2f4a94bb-743c-49ec-abbb-8bc476f93e24",
        "colab": {
          "base_uri": "https://localhost:8080/",
          "height": 34
        }
      },
      "source": [
        "# Creación de los areglos de las imágenes de entrenamiento\n",
        "train_images_temp = []\n",
        "train_labels_temp = []\n",
        "\n",
        "# Creación de dos arreglos tiop numpy array uno con las imágenes y otro con las \n",
        "# etiquetas para los datos de entrenamiento\n",
        "for images, label in training_data:\n",
        "    train_images_temp.append(images)\n",
        "    train_labels_temp.append(label)\n",
        "\n",
        "train_images = np.array(train_images_temp).reshape(-1, SIZE, SIZE, 1)\n",
        "train_labels = np.array(train_labels_temp)\n",
        "train_images.shape"
      ],
      "execution_count": null,
      "outputs": [
        {
          "output_type": "execute_result",
          "data": {
            "text/plain": [
              "(1349, 200, 200, 1)"
            ]
          },
          "metadata": {
            "tags": []
          },
          "execution_count": 8
        }
      ]
    },
    {
      "cell_type": "markdown",
      "metadata": {
        "id": "096Tq4sv_DGo"
      },
      "source": [
        "\n",
        "\n",
        "---\n",
        "*Datos de prueba*"
      ]
    },
    {
      "cell_type": "code",
      "metadata": {
        "id": "fMJjfPGp8oHH",
        "outputId": "3a865146-824e-4efa-ced0-bcd08071e39d",
        "colab": {
          "base_uri": "https://localhost:8080/",
          "height": 34
        }
      },
      "source": [
        "# Creación de los areglos de las imágenes de prueba\n",
        "test_images_temp = []\n",
        "test_labels_temp = []\n",
        "\n",
        "# Creación de dos arreglos tipo numpy array uno con las imágenes y otro con las \n",
        "# etiquetas para los datos de prueba\n",
        "for images, label in testing_data:\n",
        "    test_images_temp.append(images)\n",
        "    test_labels_temp.append(label)\n",
        "\n",
        "test_images = np.array(test_images_temp).reshape(-1, SIZE, SIZE, 1)\n",
        "test_labels = np.array(test_labels_temp)\n",
        "test_images.shape"
      ],
      "execution_count": null,
      "outputs": [
        {
          "output_type": "execute_result",
          "data": {
            "text/plain": [
              "(143, 200, 200, 1)"
            ]
          },
          "metadata": {
            "tags": []
          },
          "execution_count": 9
        }
      ]
    },
    {
      "cell_type": "markdown",
      "metadata": {
        "id": "4JEXqzmqJqtU"
      },
      "source": [
        "## Creación del modelo y ajuste de los parametros\n",
        "\n",
        "---\n",
        "A continuación, se procede crear el modelo y recalcular algunos parametros haciendo uso de la herramienta keras tunner.\n",
        "\n"
      ]
    },
    {
      "cell_type": "code",
      "metadata": {
        "id": "hukW5zUYmYfR"
      },
      "source": [
        "#Primero se defina un modelo normal para la red neuronal\n",
        "model = keras.Sequential([\n",
        "keras.layers.Conv2D(64, 3, padding='same', input_shape=train_images.shape[1:], activation='relu'),\n",
        "keras.layers.Conv2D(32, 3, padding='same', input_shape=train_images.shape[1:], activation='relu'),\n",
        "keras.layers.MaxPool2D(pool_size=(2, 2)),\n",
        "keras.layers.Dense(3, activation='relu'),\n",
        "keras.layers.Dropout(0.5),\n",
        "keras.layers.Flatten(),\n",
        "keras.layers.Dense(32, activation='softmax')])\n",
        "model.compile(optimizer='adam',\n",
        "            loss=keras.losses.SparseCategoricalCrossentropy(),\n",
        "            metrics=['accuracy'])\n"
      ],
      "execution_count": null,
      "outputs": []
    },
    {
      "cell_type": "code",
      "metadata": {
        "id": "qhvTCaEumZDE",
        "outputId": "04c318dd-8849-4d33-ffc6-b81b44de0d5f",
        "colab": {
          "base_uri": "https://localhost:8080/",
          "height": 734
        }
      },
      "source": [
        "history = model.fit(\n",
        "    train_images, \n",
        "    train_labels, \n",
        "    batch_size = 50,\n",
        "    epochs = 20,\n",
        "    validation_data = (test_images, test_labels)\n",
        ")"
      ],
      "execution_count": null,
      "outputs": [
        {
          "output_type": "stream",
          "text": [
            "Epoch 1/20\n",
            " 2/27 [=>............................] - ETA: 1s - loss: 2.7380 - accuracy: 0.0700WARNING:tensorflow:Callbacks method `on_train_batch_end` is slow compared to the batch time (batch time: 0.0507s vs `on_train_batch_end` time: 0.1006s). Check your callbacks.\n",
            "27/27 [==============================] - 6s 223ms/step - loss: 1.5485 - accuracy: 0.2965 - val_loss: 1.4387 - val_accuracy: 0.2937\n",
            "Epoch 2/20\n",
            "27/27 [==============================] - 4s 155ms/step - loss: 1.3789 - accuracy: 0.3188 - val_loss: 1.3583 - val_accuracy: 0.3217\n",
            "Epoch 3/20\n",
            "27/27 [==============================] - 4s 153ms/step - loss: 1.3597 - accuracy: 0.3440 - val_loss: 1.3431 - val_accuracy: 0.3497\n",
            "Epoch 4/20\n",
            "27/27 [==============================] - 4s 155ms/step - loss: 1.3304 - accuracy: 0.3462 - val_loss: 1.3144 - val_accuracy: 0.4056\n",
            "Epoch 5/20\n",
            "27/27 [==============================] - 4s 154ms/step - loss: 1.2532 - accuracy: 0.4233 - val_loss: 1.3205 - val_accuracy: 0.4615\n",
            "Epoch 6/20\n",
            "27/27 [==============================] - 4s 155ms/step - loss: 1.0880 - accuracy: 0.5419 - val_loss: 1.1763 - val_accuracy: 0.4755\n",
            "Epoch 7/20\n",
            "27/27 [==============================] - 4s 155ms/step - loss: 0.8458 - accuracy: 0.6723 - val_loss: 1.1415 - val_accuracy: 0.5385\n",
            "Epoch 8/20\n",
            "27/27 [==============================] - 4s 156ms/step - loss: 0.6560 - accuracy: 0.7672 - val_loss: 1.0602 - val_accuracy: 0.6154\n",
            "Epoch 9/20\n",
            "27/27 [==============================] - 4s 155ms/step - loss: 0.4392 - accuracy: 0.8569 - val_loss: 1.0159 - val_accuracy: 0.6364\n",
            "Epoch 10/20\n",
            "27/27 [==============================] - 4s 157ms/step - loss: 0.3170 - accuracy: 0.9029 - val_loss: 1.0428 - val_accuracy: 0.6434\n",
            "Epoch 11/20\n",
            "27/27 [==============================] - 4s 156ms/step - loss: 0.2368 - accuracy: 0.9407 - val_loss: 0.9740 - val_accuracy: 0.6573\n",
            "Epoch 12/20\n",
            "27/27 [==============================] - 4s 157ms/step - loss: 0.1940 - accuracy: 0.9437 - val_loss: 1.3377 - val_accuracy: 0.6364\n",
            "Epoch 13/20\n",
            "27/27 [==============================] - 4s 158ms/step - loss: 0.1691 - accuracy: 0.9555 - val_loss: 1.3625 - val_accuracy: 0.6224\n",
            "Epoch 14/20\n",
            "27/27 [==============================] - 4s 157ms/step - loss: 0.1373 - accuracy: 0.9659 - val_loss: 1.0447 - val_accuracy: 0.6783\n",
            "Epoch 15/20\n",
            "27/27 [==============================] - 4s 155ms/step - loss: 0.1625 - accuracy: 0.9615 - val_loss: 1.7236 - val_accuracy: 0.6224\n",
            "Epoch 16/20\n",
            "27/27 [==============================] - 4s 158ms/step - loss: 0.1586 - accuracy: 0.9570 - val_loss: 1.1616 - val_accuracy: 0.6783\n",
            "Epoch 17/20\n",
            "27/27 [==============================] - 4s 155ms/step - loss: 0.1217 - accuracy: 0.9696 - val_loss: 1.4431 - val_accuracy: 0.6434\n",
            "Epoch 18/20\n",
            "27/27 [==============================] - 4s 154ms/step - loss: 0.1217 - accuracy: 0.9726 - val_loss: 1.5390 - val_accuracy: 0.6503\n",
            "Epoch 19/20\n",
            "27/27 [==============================] - 4s 155ms/step - loss: 0.1330 - accuracy: 0.9733 - val_loss: 1.3962 - val_accuracy: 0.6573\n",
            "Epoch 20/20\n",
            "27/27 [==============================] - 4s 156ms/step - loss: 0.1016 - accuracy: 0.9792 - val_loss: 1.0004 - val_accuracy: 0.6294\n"
          ],
          "name": "stdout"
        }
      ]
    },
    {
      "cell_type": "markdown",
      "metadata": {
        "id": "ScjdqgvLn1er"
      },
      "source": [
        "##Gráficas para visualizar la evolución del desempeño del modelo inicial"
      ]
    },
    {
      "cell_type": "code",
      "metadata": {
        "id": "7hEFgKEonGI_",
        "outputId": "1013eaf2-3128-4500-c097-97fbf140e0db",
        "colab": {
          "base_uri": "https://localhost:8080/",
          "height": 295
        }
      },
      "source": [
        "#Gráfica de la función pérdida y la pérdida entrecruzada:\n",
        "\n",
        "plt.plot(history.history['loss'], label='loss (training data)')\n",
        "plt.plot(history.history['val_loss'], label='val_loss (validation data)')\n",
        "plt.title('loss (training set) vs loss_value(teting set)')\n",
        "plt.ylabel('value')\n",
        "plt.xlabel('No. epoch')\n",
        "plt.legend(loc=\"upper left\")\n",
        "plt.show()"
      ],
      "execution_count": null,
      "outputs": [
        {
          "output_type": "display_data",
          "data": {
            "image/png": "[encoded data removed]",
            "text/plain": [
              "<Figure size 432x288 with 1 Axes>"
            ]
          },
          "metadata": {
            "tags": [],
            "needs_background": "light"
          }
        }
      ]
    },
    {
      "cell_type": "code",
      "metadata": {
        "id": "E-DG5n4mnOKw",
        "outputId": "e2d32093-f9c0-4810-8662-5d602d9d91dd",
        "colab": {
          "base_uri": "https://localhost:8080/",
          "height": 295
        }
      },
      "source": [
        "#Gráfica de la exactitud de entrenamiento y la de evaluación\n",
        "\n",
        "import matplotlib.pyplot as plt\n",
        "plt.plot(history.history['accuracy'], label='accuracy (training data)')\n",
        "plt.plot(history.history['val_accuracy'], label='val_accuracy (validation data)')\n",
        "plt.title('accuracy (training set) vs val_accuracy (testinfg set)')\n",
        "plt.ylabel('value')\n",
        "plt.xlabel('No. epoch')\n",
        "plt.legend(loc=\"upper left\")\n",
        "plt.show()"
      ],
      "execution_count": null,
      "outputs": [
        {
          "output_type": "display_data",
          "data": {
            "image/png": "[encoded data removed]",
            "text/plain": [
              "<Figure size 432x288 with 1 Axes>"
            ]
          },
          "metadata": {
            "tags": [],
            "needs_background": "light"
          }
        }
      ]
    },
    {
      "cell_type": "code",
      "metadata": {
        "id": "BMdlpDAkQFfH",
        "outputId": "981856e9-0856-4218-aa61-15fb5412d37b",
        "colab": {
          "base_uri": "https://localhost:8080/",
          "height": 295
        }
      },
      "source": [
        "#Gráfica de la exactitud de entrenamiento vs la perdida en el set de testing\n",
        "\n",
        "import matplotlib.pyplot as plt\n",
        "plt.plot(history.history['val_loss'], label='loss (validation data)')\n",
        "plt.plot(history.history['val_accuracy'], label='accuracy (validation data)')\n",
        "plt.title('accuracy vs loss - testing')\n",
        "plt.ylabel('value')\n",
        "plt.xlabel('No. epoch')\n",
        "plt.legend(loc=\"upper left\")\n",
        "plt.show()"
      ],
      "execution_count": null,
      "outputs": [
        {
          "output_type": "display_data",
          "data": {
            "image/png": "[encoded data removed]",
            "text/plain": [
              "<Figure size 432x288 with 1 Axes>"
            ]
          },
          "metadata": {
            "tags": [],
            "needs_background": "light"
          }
        }
      ]
    },
    {
      "cell_type": "code",
      "metadata": {
        "id": "Jjzd_QsQQbDe",
        "outputId": "a0a67268-3826-4e6f-f6aa-8578866254de",
        "colab": {
          "base_uri": "https://localhost:8080/",
          "height": 295
        }
      },
      "source": [
        "#Gráfica de la exactitud de entrenamiento vs la perdida en el set de training\n",
        "\n",
        "import matplotlib.pyplot as plt\n",
        "plt.plot(history.history['loss'], label='loss (training data)')\n",
        "plt.plot(history.history['accuracy'], label='accuracy (training data)')\n",
        "plt.title('Accuracy vs loss - training set')\n",
        "plt.ylabel('value')\n",
        "plt.xlabel('No. epoch')\n",
        "plt.legend(loc=\"upper left\")\n",
        "plt.show()"
      ],
      "execution_count": null,
      "outputs": [
        {
          "output_type": "display_data",
          "data": {
            "image/png": "[encoded data removed]",
            "text/plain": [
              "<Figure size 432x288 with 1 Axes>"
            ]
          },
          "metadata": {
            "tags": [],
            "needs_background": "light"
          }
        }
      ]
    },
    {
      "cell_type": "markdown",
      "metadata": {
        "id": "7sLheXxvmJG2"
      },
      "source": [
        "##Recalcular algunos parametros usando keras tuner\n",
        "\n",
        "\n",
        "---\n",
        "A continuación se le hacen algunos cambios al modelo anterior para que sea apto para el uso de la herramienta keras-tuner.\n"
      ]
    },
    {
      "cell_type": "code",
      "metadata": {
        "id": "NY0DUS-hpM5F"
      },
      "source": [
        "def build_model(hp):\n",
        "  model = keras.Sequential([\n",
        "  keras.layers.Conv2D(64, 3, padding='same', input_shape=train_images.shape[1:], activation='relu'),\n",
        "  keras.layers.Conv2D(32, 3, padding='same', input_shape=train_images.shape[1:], activation='relu'),\n",
        "  keras.layers.MaxPool2D(pool_size=(2, 2)),\n",
        "  keras.layers.Dense(3, activation='relu'),\n",
        "  keras.layers.Dropout(0.5),\n",
        "  keras.layers.Flatten(),\n",
        "  keras.layers.Dense(hp.Choice(\"Dense layer\", [32, 128, 512]), activation='softmax')]) # Se le da a la herramienta un grupo de valores para asignarle a la catidad de filtros de esta capa\n",
        "  model.compile(optimizer='adam',\n",
        "              loss=keras.losses.SparseCategoricalCrossentropy(),\n",
        "              metrics=['accuracy'])\n",
        "\n",
        "  return model\n",
        "\n",
        "tuner = RandomSearch(\n",
        "    build_model,\n",
        "    objective='accuracy',\n",
        "    max_trials=5,\n",
        "    overwrite=True,\n",
        ")"
      ],
      "execution_count": null,
      "outputs": []
    },
    {
      "cell_type": "markdown",
      "metadata": {
        "id": "z4hDQtVquUXR"
      },
      "source": [
        "## Entrenamiento de la red neuronal\n",
        "\n",
        "---\n",
        "Se establecen los parámetros del entrenamiento con x iteraciones y se entrena la red neuronal con el modelo establecido.\n",
        "Para asegurar el mejor desempeño posible de la red neuronal se usa la herramienta keras tuner para hallar los hiperparametros que arrojen mejores resultados.\n"
      ]
    },
    {
      "cell_type": "code",
      "metadata": {
        "id": "dN_VZ-i-MiD6",
        "outputId": "cb5b3e3d-80fd-4a57-9042-ec0e7f768929",
        "colab": {
          "base_uri": "https://localhost:8080/",
          "height": 1000
        }
      },
      "source": [
        "tuner.search(\n",
        "    train_images, \n",
        "    train_labels, \n",
        "    validation_data = (test_images, test_labels), \n",
        "    epochs=20, \n",
        "    batch_size=32\n",
        ")"
      ],
      "execution_count": null,
      "outputs": [
        {
          "output_type": "stream",
          "text": [
            "Epoch 1/20\n",
            " 2/43 [>.............................] - ETA: 2s - loss: 4.8075 - accuracy: 0.1562    WARNING:tensorflow:Callbacks method `on_train_batch_end` is slow compared to the batch time (batch time: 0.0334s vs `on_train_batch_end` time: 0.0695s). Check your callbacks.\n",
            "43/43 [==============================] - 5s 123ms/step - loss: 1.6538 - accuracy: 0.2669 - val_loss: 1.3645 - val_accuracy: 0.3147\n",
            "Epoch 2/20\n",
            "43/43 [==============================] - 5s 112ms/step - loss: 1.3748 - accuracy: 0.3121 - val_loss: 1.3486 - val_accuracy: 0.3287\n",
            "Epoch 3/20\n",
            "43/43 [==============================] - 5s 114ms/step - loss: 1.3543 - accuracy: 0.3484 - val_loss: 1.3508 - val_accuracy: 0.3497\n",
            "Epoch 4/20\n",
            "43/43 [==============================] - 4s 103ms/step - loss: 1.3593 - accuracy: 0.3425 - val_loss: 1.4013 - val_accuracy: 0.3077\n",
            "Epoch 5/20\n",
            "43/43 [==============================] - 4s 104ms/step - loss: 1.3905 - accuracy: 0.3173 - val_loss: 1.3576 - val_accuracy: 0.3147\n",
            "Epoch 6/20\n",
            "43/43 [==============================] - 4s 104ms/step - loss: 1.3405 - accuracy: 0.3328 - val_loss: 1.3270 - val_accuracy: 0.3427\n",
            "Epoch 7/20\n",
            "43/43 [==============================] - 5s 113ms/step - loss: 1.3284 - accuracy: 0.3580 - val_loss: 1.3019 - val_accuracy: 0.3916\n",
            "Epoch 8/20\n",
            "43/43 [==============================] - 5s 112ms/step - loss: 1.2820 - accuracy: 0.4188 - val_loss: 1.3125 - val_accuracy: 0.3986\n",
            "Epoch 9/20\n",
            "43/43 [==============================] - 5s 114ms/step - loss: 1.1114 - accuracy: 0.5226 - val_loss: 1.2127 - val_accuracy: 0.4755\n",
            "Epoch 10/20\n",
            "43/43 [==============================] - 5s 112ms/step - loss: 0.5585 - accuracy: 0.7924 - val_loss: 0.9454 - val_accuracy: 0.6713\n",
            "Epoch 11/20\n",
            "43/43 [==============================] - 5s 126ms/step - loss: 0.2826 - accuracy: 0.9281 - val_loss: 0.9092 - val_accuracy: 0.7203\n",
            "Epoch 12/20\n",
            "43/43 [==============================] - 5s 112ms/step - loss: 0.1807 - accuracy: 0.9555 - val_loss: 1.1526 - val_accuracy: 0.6643\n",
            "Epoch 13/20\n",
            "43/43 [==============================] - 5s 113ms/step - loss: 0.1349 - accuracy: 0.9703 - val_loss: 1.5496 - val_accuracy: 0.6503\n",
            "Epoch 14/20\n",
            "43/43 [==============================] - 5s 114ms/step - loss: 0.1156 - accuracy: 0.9748 - val_loss: 1.3520 - val_accuracy: 0.6713\n",
            "Epoch 15/20\n",
            "43/43 [==============================] - 4s 104ms/step - loss: 0.1118 - accuracy: 0.9733 - val_loss: 1.1206 - val_accuracy: 0.6503\n",
            "Epoch 16/20\n",
            "43/43 [==============================] - 5s 113ms/step - loss: 0.0814 - accuracy: 0.9785 - val_loss: 1.0633 - val_accuracy: 0.6434\n",
            "Epoch 17/20\n",
            "43/43 [==============================] - 5s 106ms/step - loss: 0.1153 - accuracy: 0.9763 - val_loss: 1.3690 - val_accuracy: 0.6643\n",
            "Epoch 18/20\n",
            "43/43 [==============================] - 5s 114ms/step - loss: 0.0854 - accuracy: 0.9822 - val_loss: 1.3471 - val_accuracy: 0.6434\n",
            "Epoch 19/20\n",
            "43/43 [==============================] - 5s 105ms/step - loss: 0.0879 - accuracy: 0.9800 - val_loss: 1.3060 - val_accuracy: 0.6503\n",
            "Epoch 20/20\n",
            "43/43 [==============================] - 4s 104ms/step - loss: 0.0679 - accuracy: 0.9822 - val_loss: 1.1360 - val_accuracy: 0.6224\n"
          ],
          "name": "stdout"
        },
        {
          "output_type": "display_data",
          "data": {
            "text/html": [
              "<span style=\"color:#4527A0\"><h1 style=\"font-size:18px\">Trial complete</h1></span>"
            ],
            "text/plain": [
              "<IPython.core.display.HTML object>"
            ]
          },
          "metadata": {
            "tags": []
          }
        },
        {
          "output_type": "display_data",
          "data": {
            "text/html": [
              "<span style=\"color:#4527A0\"><h1 style=\"font-size:18px\">Trial summary</h1></span>"
            ],
            "text/plain": [
              "<IPython.core.display.HTML object>"
            ]
          },
          "metadata": {
            "tags": []
          }
        },
        {
          "output_type": "display_data",
          "data": {
            "text/html": [
              "<span style=\"color:cyan\"> |-Trial ID: 6d7a9aaeff8280327967537a4f49144a</span>"
            ],
            "text/plain": [
              "<IPython.core.display.HTML object>"
            ]
          },
          "metadata": {
            "tags": []
          }
        },
        {
          "output_type": "display_data",
          "data": {
            "text/html": [
              "<span style=\"color:cyan\"> |-Score: 0.9822090268135071</span>"
            ],
            "text/plain": [
              "<IPython.core.display.HTML object>"
            ]
          },
          "metadata": {
            "tags": []
          }
        },
        {
          "output_type": "display_data",
          "data": {
            "text/html": [
              "<span style=\"color:cyan\"> |-Best step: 0</span>"
            ],
            "text/plain": [
              "<IPython.core.display.HTML object>"
            ]
          },
          "metadata": {
            "tags": []
          }
        },
        {
          "output_type": "display_data",
          "data": {
            "text/html": [
              "<span style=\"color:#7E57C2\"><h2 style=\"font-size:16px\">Hyperparameters:</h2></span>"
            ],
            "text/plain": [
              "<IPython.core.display.HTML object>"
            ]
          },
          "metadata": {
            "tags": []
          }
        },
        {
          "output_type": "display_data",
          "data": {
            "text/html": [
              "<span style=\"color:cyan\"> |-Dense layer: 512</span>"
            ],
            "text/plain": [
              "<IPython.core.display.HTML object>"
            ]
          },
          "metadata": {
            "tags": []
          }
        },
        {
          "output_type": "stream",
          "text": [
            "Epoch 1/20\n",
            " 2/43 [>.............................] - ETA: 1s - loss: 3.3816 - accuracy: 0.2344    WARNING:tensorflow:Callbacks method `on_train_batch_end` is slow compared to the batch time (batch time: 0.0306s vs `on_train_batch_end` time: 0.0681s). Check your callbacks.\n",
            "43/43 [==============================] - 4s 102ms/step - loss: 1.5339 - accuracy: 0.2876 - val_loss: 1.4180 - val_accuracy: 0.3287\n",
            "Epoch 2/20\n",
            "43/43 [==============================] - 4s 100ms/step - loss: 1.3558 - accuracy: 0.3358 - val_loss: 1.3287 - val_accuracy: 0.3986\n",
            "Epoch 3/20\n",
            "43/43 [==============================] - 4s 100ms/step - loss: 1.2029 - accuracy: 0.4648 - val_loss: 1.1732 - val_accuracy: 0.5175\n",
            "Epoch 4/20\n",
            "43/43 [==============================] - 4s 100ms/step - loss: 0.8838 - accuracy: 0.6612 - val_loss: 0.9918 - val_accuracy: 0.5874\n",
            "Epoch 5/20\n",
            "43/43 [==============================] - 4s 100ms/step - loss: 0.5211 - accuracy: 0.8228 - val_loss: 0.8724 - val_accuracy: 0.6503\n",
            "Epoch 6/20\n",
            "43/43 [==============================] - 4s 100ms/step - loss: 0.3549 - accuracy: 0.8940 - val_loss: 0.9287 - val_accuracy: 0.6853\n",
            "Epoch 7/20\n",
            "43/43 [==============================] - 4s 98ms/step - loss: 0.2820 - accuracy: 0.9170 - val_loss: 1.0407 - val_accuracy: 0.6643\n",
            "Epoch 8/20\n",
            "43/43 [==============================] - 4s 101ms/step - loss: 0.2344 - accuracy: 0.9340 - val_loss: 1.1935 - val_accuracy: 0.6853\n",
            "Epoch 9/20\n",
            "43/43 [==============================] - 4s 101ms/step - loss: 0.1774 - accuracy: 0.9496 - val_loss: 0.9970 - val_accuracy: 0.7133\n",
            "Epoch 10/20\n",
            "43/43 [==============================] - 4s 100ms/step - loss: 0.1819 - accuracy: 0.9533 - val_loss: 1.1896 - val_accuracy: 0.6853\n",
            "Epoch 11/20\n",
            "43/43 [==============================] - 4s 100ms/step - loss: 0.1677 - accuracy: 0.9474 - val_loss: 1.1796 - val_accuracy: 0.6783\n",
            "Epoch 12/20\n",
            "43/43 [==============================] - 4s 99ms/step - loss: 0.1892 - accuracy: 0.9503 - val_loss: 1.0681 - val_accuracy: 0.6993\n",
            "Epoch 13/20\n",
            "43/43 [==============================] - 4s 99ms/step - loss: 0.2601 - accuracy: 0.9185 - val_loss: 1.1939 - val_accuracy: 0.6713\n",
            "Epoch 14/20\n",
            "43/43 [==============================] - 4s 100ms/step - loss: 0.1706 - accuracy: 0.9577 - val_loss: 1.2525 - val_accuracy: 0.6853\n",
            "Epoch 15/20\n",
            "43/43 [==============================] - 4s 100ms/step - loss: 0.1201 - accuracy: 0.9607 - val_loss: 1.0683 - val_accuracy: 0.6993\n",
            "Epoch 16/20\n",
            "43/43 [==============================] - 4s 99ms/step - loss: 0.1508 - accuracy: 0.9577 - val_loss: 1.0822 - val_accuracy: 0.7133\n",
            "Epoch 17/20\n",
            "43/43 [==============================] - 4s 100ms/step - loss: 0.1357 - accuracy: 0.9644 - val_loss: 1.1139 - val_accuracy: 0.6643\n",
            "Epoch 18/20\n",
            "43/43 [==============================] - 4s 101ms/step - loss: 0.1038 - accuracy: 0.9718 - val_loss: 1.1941 - val_accuracy: 0.6783\n",
            "Epoch 19/20\n",
            "43/43 [==============================] - 4s 99ms/step - loss: 0.1287 - accuracy: 0.9726 - val_loss: 1.1735 - val_accuracy: 0.7203\n",
            "Epoch 20/20\n",
            "43/43 [==============================] - 4s 101ms/step - loss: 0.1125 - accuracy: 0.9755 - val_loss: 1.3743 - val_accuracy: 0.6364\n"
          ],
          "name": "stdout"
        },
        {
          "output_type": "display_data",
          "data": {
            "text/html": [
              "<span style=\"color:#4527A0\"><h1 style=\"font-size:18px\">Trial complete</h1></span>"
            ],
            "text/plain": [
              "<IPython.core.display.HTML object>"
            ]
          },
          "metadata": {
            "tags": []
          }
        },
        {
          "output_type": "display_data",
          "data": {
            "text/html": [
              "<span style=\"color:#4527A0\"><h1 style=\"font-size:18px\">Trial summary</h1></span>"
            ],
            "text/plain": [
              "<IPython.core.display.HTML object>"
            ]
          },
          "metadata": {
            "tags": []
          }
        },
        {
          "output_type": "display_data",
          "data": {
            "text/html": [
              "<span style=\"color:cyan\"> |-Trial ID: b87f6f77477221a8238096904a2f6fd2</span>"
            ],
            "text/plain": [
              "<IPython.core.display.HTML object>"
            ]
          },
          "metadata": {
            "tags": []
          }
        },
        {
          "output_type": "display_data",
          "data": {
            "text/html": [
              "<span style=\"color:cyan\"> |-Score: 0.9755374193191528</span>"
            ],
            "text/plain": [
              "<IPython.core.display.HTML object>"
            ]
          },
          "metadata": {
            "tags": []
          }
        },
        {
          "output_type": "display_data",
          "data": {
            "text/html": [
              "<span style=\"color:cyan\"> |-Best step: 0</span>"
            ],
            "text/plain": [
              "<IPython.core.display.HTML object>"
            ]
          },
          "metadata": {
            "tags": []
          }
        },
        {
          "output_type": "display_data",
          "data": {
            "text/html": [
              "<span style=\"color:#7E57C2\"><h2 style=\"font-size:16px\">Hyperparameters:</h2></span>"
            ],
            "text/plain": [
              "<IPython.core.display.HTML object>"
            ]
          },
          "metadata": {
            "tags": []
          }
        },
        {
          "output_type": "display_data",
          "data": {
            "text/html": [
              "<span style=\"color:cyan\"> |-Dense layer: 32</span>"
            ],
            "text/plain": [
              "<IPython.core.display.HTML object>"
            ]
          },
          "metadata": {
            "tags": []
          }
        },
        {
          "output_type": "stream",
          "text": [
            "Epoch 1/20\n",
            " 2/43 [>.............................] - ETA: 2s - loss: 4.8004 - accuracy: 0.0938    WARNING:tensorflow:Callbacks method `on_train_batch_end` is slow compared to the batch time (batch time: 0.0330s vs `on_train_batch_end` time: 0.0708s). Check your callbacks.\n",
            "43/43 [==============================] - 5s 105ms/step - loss: 1.7145 - accuracy: 0.2847 - val_loss: 1.3590 - val_accuracy: 0.3147\n",
            "Epoch 2/20\n",
            "43/43 [==============================] - 4s 102ms/step - loss: 1.3669 - accuracy: 0.3047 - val_loss: 1.3530 - val_accuracy: 0.3497\n",
            "Epoch 3/20\n",
            "43/43 [==============================] - 4s 102ms/step - loss: 1.3590 - accuracy: 0.3299 - val_loss: 1.3626 - val_accuracy: 0.3077\n",
            "Epoch 4/20\n",
            "43/43 [==============================] - 4s 103ms/step - loss: 1.3642 - accuracy: 0.3403 - val_loss: 1.4841 - val_accuracy: 0.3357\n",
            "Epoch 5/20\n",
            "43/43 [==============================] - 4s 101ms/step - loss: 1.3595 - accuracy: 0.3529 - val_loss: 1.3185 - val_accuracy: 0.3776\n",
            "Epoch 6/20\n",
            "43/43 [==============================] - 4s 103ms/step - loss: 1.2744 - accuracy: 0.4211 - val_loss: 1.1945 - val_accuracy: 0.4965\n",
            "Epoch 7/20\n",
            "43/43 [==============================] - 4s 104ms/step - loss: 0.9291 - accuracy: 0.6323 - val_loss: 1.0101 - val_accuracy: 0.6014\n",
            "Epoch 8/20\n",
            "43/43 [==============================] - 4s 103ms/step - loss: 0.5265 - accuracy: 0.8288 - val_loss: 1.2272 - val_accuracy: 0.5944\n",
            "Epoch 9/20\n",
            "43/43 [==============================] - 4s 103ms/step - loss: 0.3266 - accuracy: 0.9066 - val_loss: 1.0136 - val_accuracy: 0.6434\n",
            "Epoch 10/20\n",
            "43/43 [==============================] - 4s 105ms/step - loss: 0.2345 - accuracy: 0.9466 - val_loss: 1.2636 - val_accuracy: 0.6434\n",
            "Epoch 11/20\n",
            "43/43 [==============================] - 4s 102ms/step - loss: 0.2090 - accuracy: 0.9600 - val_loss: 1.3991 - val_accuracy: 0.6783\n",
            "Epoch 12/20\n",
            "43/43 [==============================] - 4s 103ms/step - loss: 0.1459 - accuracy: 0.9681 - val_loss: 1.4795 - val_accuracy: 0.6573\n",
            "Epoch 13/20\n",
            "43/43 [==============================] - 4s 104ms/step - loss: 0.1614 - accuracy: 0.9755 - val_loss: 1.3220 - val_accuracy: 0.6364\n",
            "Epoch 14/20\n",
            "43/43 [==============================] - 4s 100ms/step - loss: 0.1622 - accuracy: 0.9629 - val_loss: 1.3316 - val_accuracy: 0.6434\n",
            "Epoch 15/20\n",
            "43/43 [==============================] - 4s 102ms/step - loss: 0.1238 - accuracy: 0.9763 - val_loss: 1.2602 - val_accuracy: 0.6643\n",
            "Epoch 16/20\n",
            "43/43 [==============================] - 4s 103ms/step - loss: 0.1336 - accuracy: 0.9792 - val_loss: 1.4669 - val_accuracy: 0.6573\n",
            "Epoch 17/20\n",
            "43/43 [==============================] - 4s 102ms/step - loss: 0.1571 - accuracy: 0.9733 - val_loss: 1.2858 - val_accuracy: 0.6364\n",
            "Epoch 18/20\n",
            "43/43 [==============================] - 4s 101ms/step - loss: 0.1212 - accuracy: 0.9785 - val_loss: 1.3714 - val_accuracy: 0.6643\n",
            "Epoch 19/20\n",
            "43/43 [==============================] - 4s 99ms/step - loss: 0.1562 - accuracy: 0.9763 - val_loss: 1.6371 - val_accuracy: 0.6434\n",
            "Epoch 20/20\n",
            "43/43 [==============================] - 4s 102ms/step - loss: 0.1390 - accuracy: 0.9792 - val_loss: 1.4492 - val_accuracy: 0.6154\n"
          ],
          "name": "stdout"
        },
        {
          "output_type": "display_data",
          "data": {
            "text/html": [
              "<span style=\"color:#4527A0\"><h1 style=\"font-size:18px\">Trial complete</h1></span>"
            ],
            "text/plain": [
              "<IPython.core.display.HTML object>"
            ]
          },
          "metadata": {
            "tags": []
          }
        },
        {
          "output_type": "display_data",
          "data": {
            "text/html": [
              "<span style=\"color:#4527A0\"><h1 style=\"font-size:18px\">Trial summary</h1></span>"
            ],
            "text/plain": [
              "<IPython.core.display.HTML object>"
            ]
          },
          "metadata": {
            "tags": []
          }
        },
        {
          "output_type": "display_data",
          "data": {
            "text/html": [
              "<span style=\"color:cyan\"> |-Trial ID: e5995cd215e38dd48c612f6a3359d248</span>"
            ],
            "text/plain": [
              "<IPython.core.display.HTML object>"
            ]
          },
          "metadata": {
            "tags": []
          }
        },
        {
          "output_type": "display_data",
          "data": {
            "text/html": [
              "<span style=\"color:cyan\"> |-Score: 0.9792438745498657</span>"
            ],
            "text/plain": [
              "<IPython.core.display.HTML object>"
            ]
          },
          "metadata": {
            "tags": []
          }
        },
        {
          "output_type": "display_data",
          "data": {
            "text/html": [
              "<span style=\"color:cyan\"> |-Best step: 0</span>"
            ],
            "text/plain": [
              "<IPython.core.display.HTML object>"
            ]
          },
          "metadata": {
            "tags": []
          }
        },
        {
          "output_type": "display_data",
          "data": {
            "text/html": [
              "<span style=\"color:#7E57C2\"><h2 style=\"font-size:16px\">Hyperparameters:</h2></span>"
            ],
            "text/plain": [
              "<IPython.core.display.HTML object>"
            ]
          },
          "metadata": {
            "tags": []
          }
        },
        {
          "output_type": "display_data",
          "data": {
            "text/html": [
              "<span style=\"color:cyan\"> |-Dense layer: 128</span>"
            ],
            "text/plain": [
              "<IPython.core.display.HTML object>"
            ]
          },
          "metadata": {
            "tags": []
          }
        },
        {
          "output_type": "stream",
          "text": [
            "INFO:tensorflow:Oracle triggered exit\n"
          ],
          "name": "stdout"
        }
      ]
    },
    {
      "cell_type": "markdown",
      "metadata": {
        "id": "D4Jtpa33TVsJ"
      },
      "source": [
        "A continuación se seleccionan los hiperparametros que dieron mejores resultados y se guardan en la variable *best_model* para luego evaluar el desempeño final del modelo."
      ]
    },
    {
      "cell_type": "code",
      "metadata": {
        "id": "kZAlwGc8saCc"
      },
      "source": [
        "best_model = tuner.get_best_models()[0]"
      ],
      "execution_count": null,
      "outputs": []
    },
    {
      "cell_type": "markdown",
      "metadata": {
        "id": "p8BXGvmJc1-w"
      },
      "source": [
        "# Calculo del desempeño final del modelo ajustado"
      ]
    },
    {
      "cell_type": "code",
      "metadata": {
        "id": "2PxoXr3Ou7bc",
        "outputId": "30a690bd-213d-48a9-8f68-af39843b7d2d",
        "colab": {
          "base_uri": "https://localhost:8080/",
          "height": 51
        }
      },
      "source": [
        "best_model.evaluate(test_images, test_labels)"
      ],
      "execution_count": null,
      "outputs": [
        {
          "output_type": "stream",
          "text": [
            "5/5 [==============================] - 0s 25ms/step - loss: 1.3471 - accuracy: 0.6434\n"
          ],
          "name": "stdout"
        },
        {
          "output_type": "execute_result",
          "data": {
            "text/plain": [
              "[1.3470957279205322, 0.6433566212654114]"
            ]
          },
          "metadata": {
            "tags": []
          },
          "execution_count": 19
        }
      ]
    },
    {
      "cell_type": "markdown",
      "metadata": {
        "id": "lYWdSkMY1EeT"
      },
      "source": [
        "##Fallos cometidos\n",
        "\n",
        "---\n",
        "Se imprime una comparación de la predicción de la red con los valores reales primero con los arreglos de las etiquetas numéricas y luego con las etiquetas literales.\n",
        "\n"
      ]
    },
    {
      "cell_type": "code",
      "metadata": {
        "id": "KPGYT-6n1TRc",
        "outputId": "e823ed11-55fb-43cd-bbd3-ada83d691f44",
        "colab": {
          "base_uri": "https://localhost:8080/",
          "height": 306
        }
      },
      "source": [
        "predictions = np.array(best_model.predict(test_images).argmax(axis=1))\n",
        "print(\"Predicciones hechas: \\n\",predictions, '\\n')\n",
        "print(\"Respuestas correctas: \\n\", test_labels)\n",
        "\n",
        "cont_fawn=0\n",
        "cont_herd=0\n",
        "cont_buck=0\n",
        "cont_doe=0\n",
        "\n",
        "for i in range (len(predictions)):\n",
        "  if (predictions[i] != test_labels[i]):\n",
        "    predicted=categories[predictions[i]]\n",
        "    real=categories[test_labels[i]]\n",
        "    if (real==\"Buck\"):\n",
        "      cont_buck+=1\n",
        "    elif (real==\"Doe\"):\n",
        "      cont_doe+=1\n",
        "    elif (real==\"Fawn\"):\n",
        "      cont_fawn+=1\n",
        "    else:\n",
        "      cont_herd+=1\n",
        "\n",
        "print(\"\\nVeces en las que el modelo falló en identificar cada categoria:\")\n",
        "print(\"Hembras: \",cont_doe)\n",
        "print(\"Machos: \", cont_buck)\n",
        "print(\"Cervatos: \", cont_fawn)\n",
        "print(\"Grupos: \",cont_herd)"
      ],
      "execution_count": null,
      "outputs": [
        {
          "output_type": "stream",
          "text": [
            "Predicciones hechas: \n",
            " [2 0 0 1 2 0 0 1 3 2 1 2 3 2 2 1 2 1 2 1 0 2 0 1 1 1 2 1 1 2 1 1 1 1 0 0 3\n",
            " 1 1 2 0 0 3 1 2 1 1 2 2 0 1 2 1 1 2 3 2 0 2 1 2 1 0 1 2 2 1 1 0 0 0 3 0 2\n",
            " 1 2 0 1 0 1 2 3 1 1 2 0 1 2 1 1 1 1 2 2 0 2 1 2 1 2 3 1 2 2 0 2 2 2 2 0 0\n",
            " 2 1 1 2 0 2 2 3 1 1 2 1 2 2 1 0 2 2 1 0 1 1 1 1 1 2 3 1 2 2 0 1] \n",
            "\n",
            "Respuestas correctas: \n",
            " [2 2 0 3 0 0 2 1 2 2 1 1 3 0 0 3 2 3 0 2 0 3 2 1 3 1 2 1 1 2 1 1 3 2 0 0 3\n",
            " 1 2 0 0 0 3 1 0 1 1 2 0 0 1 2 1 1 0 3 2 2 3 1 0 1 2 1 2 0 1 1 0 0 0 3 0 2\n",
            " 1 3 3 1 2 1 0 2 1 1 3 2 1 2 1 1 1 1 2 2 3 2 1 3 3 2 3 3 2 2 0 2 3 0 2 0 0\n",
            " 2 1 1 3 2 2 3 3 2 1 2 1 3 2 1 2 0 1 1 2 1 1 1 1 0 2 3 1 2 2 1 1]\n",
            "\n",
            "Veces en las que el modelo falló en identificar cada categoria:\n",
            "Hembras:  14\n",
            "Machos:  3\n",
            "Cervatos:  16\n",
            "Grupos:  18\n"
          ],
          "name": "stdout"
        }
      ]
    },
    {
      "cell_type": "markdown",
      "metadata": {
        "id": "eZFQMWQh_MuF"
      },
      "source": [
        "## Matriz de confusión\n",
        "\n",
        "---\n",
        "Con la librería pandas se genera una tabla que muestra en las filas las predicciones que hizo la CNN con su respectiva etiqueta numérica y en las columnas los valores reales con su respectiva etiqueta numérica, también se imprimen las etiquetas alfabéticas de cada etiqueta numérica."
      ]
    },
    {
      "cell_type": "code",
      "metadata": {
        "id": "oaxl9Dh-_USE",
        "outputId": "a9a4780a-a200-4738-c12c-ca6467b35cc7",
        "colab": {
          "base_uri": "https://localhost:8080/",
          "height": 289
        }
      },
      "source": [
        "print(\"0 = Doe (Hembra) \\n\" +\n",
        "\"1 = Buck (Macho) \\n\" +\n",
        "\"2 = Fawn (Cervato) \\n\" +\n",
        "\"3 = Herd (Grupo) \\n\")\n",
        "\n",
        "df_confusion = pd.crosstab(predictions, test_labels, colnames=[\"Reales\"], rownames=[\"Predicciones\"])\n",
        "df_confusion"
      ],
      "execution_count": null,
      "outputs": [
        {
          "output_type": "stream",
          "text": [
            "0 = Doe (Hembra) \n",
            "1 = Buck (Macho) \n",
            "2 = Fawn (Cervato) \n",
            "3 = Herd (Grupo) \n",
            "\n"
          ],
          "name": "stdout"
        },
        {
          "output_type": "execute_result",
          "data": {
            "text/html": [
              "<div>\n",
              "<style scoped>\n",
              "    .dataframe tbody tr th:only-of-type {\n",
              "        vertical-align: middle;\n",
              "    }\n",
              "\n",
              "    .dataframe tbody tr th {\n",
              "        vertical-align: top;\n",
              "    }\n",
              "\n",
              "    .dataframe thead th {\n",
              "        text-align: right;\n",
              "    }\n",
              "</style>\n",
              "<table border=\"1\" class=\"dataframe\">\n",
              "  <thead>\n",
              "    <tr style=\"text-align: right;\">\n",
              "      <th>Reales</th>\n",
              "      <th>0</th>\n",
              "      <th>1</th>\n",
              "      <th>2</th>\n",
              "      <th>3</th>\n",
              "    </tr>\n",
              "    <tr>\n",
              "      <th>Predicciones</th>\n",
              "      <th></th>\n",
              "      <th></th>\n",
              "      <th></th>\n",
              "      <th></th>\n",
              "    </tr>\n",
              "  </thead>\n",
              "  <tbody>\n",
              "    <tr>\n",
              "      <th>0</th>\n",
              "      <td>15</td>\n",
              "      <td>1</td>\n",
              "      <td>10</td>\n",
              "      <td>2</td>\n",
              "    </tr>\n",
              "    <tr>\n",
              "      <th>1</th>\n",
              "      <td>1</td>\n",
              "      <td>43</td>\n",
              "      <td>4</td>\n",
              "      <td>7</td>\n",
              "    </tr>\n",
              "    <tr>\n",
              "      <th>2</th>\n",
              "      <td>13</td>\n",
              "      <td>2</td>\n",
              "      <td>26</td>\n",
              "      <td>9</td>\n",
              "    </tr>\n",
              "    <tr>\n",
              "      <th>3</th>\n",
              "      <td>0</td>\n",
              "      <td>0</td>\n",
              "      <td>2</td>\n",
              "      <td>8</td>\n",
              "    </tr>\n",
              "  </tbody>\n",
              "</table>\n",
              "</div>"
            ],
            "text/plain": [
              "Reales         0   1   2  3\n",
              "Predicciones               \n",
              "0             15   1  10  2\n",
              "1              1  43   4  7\n",
              "2             13   2  26  9\n",
              "3              0   0   2  8"
            ]
          },
          "metadata": {
            "tags": []
          },
          "execution_count": 21
        }
      ]
    },
    {
      "cell_type": "markdown",
      "metadata": {
        "id": "QKOaOH8zJLLt"
      },
      "source": [
        "## Cálculo de métricas\n",
        "\n",
        "---\n",
        "Con ayuda de sklearn.metrics se calculan las métricas de desempeño de la red neuronal.\n",
        "\n",
        "\n"
      ]
    },
    {
      "cell_type": "code",
      "metadata": {
        "id": "ICegqM-iFMsa",
        "outputId": "5278f5b9-e630-428d-d17c-d036bba30426",
        "colab": {
          "base_uri": "https://localhost:8080/",
          "height": 85
        }
      },
      "source": [
        "# Accuracy\n",
        "accuracy = accuracy_score(test_labels, predictions)\n",
        "print(\"Accuracy score:\",accuracy)\n",
        "\n",
        "# Recall\n",
        "recall = recall_score(test_labels, predictions, average='weighted')\n",
        "print(\"Recall: \",recall)\n",
        "\n",
        "# Precision\n",
        "precision = precision_score(test_labels, predictions, average='weighted')\n",
        "print(\"Precision: \", precision)\n",
        "\n",
        "#F1-Score\n",
        "f1_score = (2 * precision * recall) / (precision + recall)\n",
        "print(\"F1-Score: \", f1_score)"
      ],
      "execution_count": null,
      "outputs": [
        {
          "output_type": "stream",
          "text": [
            "Accuracy score: 0.6433566433566433\n",
            "Recall:  0.6433566433566433\n",
            "Precision:  0.6583171374080464\n",
            "F1-Score:  0.6507509178500677\n"
          ],
          "name": "stdout"
        }
      ]
    },
    {
      "cell_type": "markdown",
      "metadata": {
        "id": "PdMSlaNXnIwa"
      },
      "source": [
        "## Prueba de etiquetado de una imagen\n",
        "\n",
        "---\n",
        "Primero se crea un nuevo arreglo con los datos de prueba de dimensiones (x, SIZE, SIZE) para que pueda se usado con las funciones plot, luego se ingresa un valor *num_img* que pertenece a la posición de la imagen en el arreglo de las imágenes de prueba para luego mostrarla y mostrar como lo etiquetó la CNN y compararla con la etiqueta real.\n",
        "\n",
        "\n"
      ]
    },
    {
      "cell_type": "markdown",
      "metadata": {
        "id": "wo9KBIKJXudP"
      },
      "source": [
        "\n",
        "\n",
        "---\n",
        "*Prueba de una sola imagen dentro del dataset de pruebas*\n"
      ]
    },
    {
      "cell_type": "code",
      "metadata": {
        "id": "RhiqN7svZ0kU",
        "outputId": "9d75b810-edff-4938-9e73-3c5b6bf14af8",
        "colab": {
          "base_uri": "https://localhost:8080/",
          "height": 119
        }
      },
      "source": [
        "# Mostrar la imagen, la predicción y la etiqueta real\n",
        "num_img = 9\n",
        "print(\"La CNN predice que es:\", categories[predictions[num_img]], \"=\", spanish[predictions[num_img]])\n",
        "print(\"La imagen está etiquetada como:\", categories[test_labels[num_img]], \"=\", spanish[test_labels[num_img]])\n",
        "print(\"\\n--------------------------------------------- \\n\")\n",
        "\n",
        "if (predictions[num_img] == test_labels[num_img]):\n",
        "  print(\"La CNN acertó\")\n",
        "else:\n",
        "  print(\"La CNN falló\")"
      ],
      "execution_count": null,
      "outputs": [
        {
          "output_type": "stream",
          "text": [
            "La CNN predice que es: Fawn = Cervatillo\n",
            "La imagen está etiquetada como: Fawn = Cervatillo\n",
            "\n",
            "--------------------------------------------- \n",
            "\n",
            "La CNN acertó\n"
          ],
          "name": "stdout"
        }
      ]
    },
    {
      "cell_type": "markdown",
      "metadata": {
        "id": "Xds-JtbKX7nO"
      },
      "source": [
        "\n",
        "\n",
        "---\n",
        "*Prueba de una sola imagen ingresada por el usuario*"
      ]
    },
    {
      "cell_type": "code",
      "metadata": {
        "id": "yKsquQM_HENr",
        "outputId": "0b1c1257-0455-453c-a6d5-3fb86c0354b0",
        "colab": {
          "base_uri": "https://localhost:8080/",
          "height": 261
        }
      },
      "source": [
        "#La CNN no está entrenada para reconocer objetos o seres diferentes a los ciervos\n",
        "image_title = \"Cosa4.jpg\"\n",
        "user_image_og = data_path + \"DeerDataset/user_images/\" + image_title\n",
        "\n",
        "user_image = cv2.imread(user_image_og)\n",
        "user_image = preprocess_image(user_image)\n",
        "user_image = np.array(user_image).reshape(-1, SIZE, SIZE, 1)\n",
        "\n",
        "prediction = np.array(best_model.predict(user_image).argmax(axis=1))\n",
        "prediction2 = np.array(model.predict(user_image).argmax(axis=1))\n",
        "\n",
        "plt.imshow(mpimg.imread(user_image_og))\n",
        "\n",
        "print(\"La CNN con keras predice que es un\", categories[prediction[0]],\"o\", spanish[prediction[0]], \"en español\")\n",
        "print(\"La CNN sin keras predice que es un\", categories[prediction2[0]],\"o\", spanish[prediction2[0]], \"en español\")"
      ],
      "execution_count": null,
      "outputs": [
        {
          "output_type": "stream",
          "text": [
            "La CNN con keras predice que es un Doe o Hembra en español\n",
            "La CNN sin keras predice que es un Doe o Hembra en español\n"
          ],
          "name": "stdout"
        },
        {
          "output_type": "display_data",
          "data": {
            "image/png": "[encoded data removed]",
            "text/plain": [
              "<Figure size 432x288 with 1 Axes>"
            ]
          },
          "metadata": {
            "tags": [],
            "needs_background": "light"
          }
        }
      ]
    },
    {
      "cell_type": "markdown",
      "metadata": {
        "id": "EGZilnXrdQfq"
      },
      "source": [
        "#Conclusiones\n",
        "\n",
        "---\n",
        "* Según las métricas y gráficas anteriormente vistas, tenemos que la red neuronal tiene una exactitud de aproximadamente un 60%, lo cual si bien no es una cantidad despreciable nos permite ver que aun hay cierto margen de mejora. Esto a su vez nos permite inferir un posible overfitting de la misma, pues la exactitud del entrenamiento si llega a cruzar incluso el umbral del 90%, sin mencionar la disparidad existente entre los valores de pérdida del entrenamiento y de testing. Lo anterior puede deberse al reducido número de elementos que conforman los conjuntos de entrenamiento y testing son pocos, y también debido a los posibles errores humanos existentes en la información usada como base para el entrenamiento y el testeo, ya que si desde base los ejemplo usados en ambas fases hay errores de clasificación no se puede esperar que después el sistema lo haga perfectamente. \n",
        "\n",
        "* Además, el gran numero de similitudes existentes entre los especimenes clasificados puede dificultar bastante la tarea de clasificarlos correctamente, pues por lo general la mayor diferencia entre las crías y las hembras es el tamaño, el cual muchas veces no es diferenciable en las fotografías.\n",
        "\n",
        "* Creemos que el mayor problema de la red neuronal es el dataset, ya que este no solo tiene imágenes repetidas, sino que algunas están también mal clasificadas y a pesar de que intentamos corregir el etiquetado el error humano es inevitable, en consecuencia, cuando se hizo un aumento de datos, los errores del dataset se multiplicaron y esto disminuyó el desempeño de la CNN, por lo que decidimos regresar al dataset inicial. \n",
        "\n",
        "* A su vez, se hicieron pruebas quitando una de las categorias y dejando solo machos, hembras y cervatos, lo cual provocó un aumento de la exactitud registrada en el entrenamiento y el testeo en un 10%, pero a la hora de realizar pruebas con imagenes ajenas a dichos conjuntos no hubo un impacto apreciable en el desempeño de la red neuronal debido a que al tener menos etiquetas las probabilidaddes de fallar son menos pero el problema de overfitting no se ha ido, por lo cual se decidió volver a la configuración inicial de cuatro posibles clases.\n",
        "\n"
      ]
    }
  ]
}